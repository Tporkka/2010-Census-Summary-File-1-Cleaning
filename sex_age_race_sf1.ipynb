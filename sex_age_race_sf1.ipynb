{
 "cells": [
  {
   "cell_type": "code",
   "execution_count": 4,
   "metadata": {
    "collapsed": true
   },
   "outputs": [],
   "source": [
    "#this script obtains demographic data from the 2010 census summary file 1. \n",
    "#The end goal is creating bson documents to upload into mongo db with\n",
    "#population counts by age,race,and sex for each area. For now I'll stick with\n",
    "#the county level to keep things simple. \n",
    "\n",
    "#Note: need mdbtools installed on your computer."
   ]
  },
  {
   "cell_type": "markdown",
   "metadata": {},
   "source": [
    "Sample of JSON document I am hoping to create with this script...\n",
    "\n",
    "[\n",
    "    {\n",
    "    \"_id\" : \"asdfasdfa102838\",\n",
    "    \"LOGRECNO\" : \"000023445\",\n",
    "    \"FIPS\" : \"55025\",\n",
    "    \"name\" : \"Dane County\",\n",
    "    \"age\" : \"15-17\",\n",
    "    \"sex\" : \"Male\",\n",
    "    \"race\" : \"Asian\",\n",
    "    \"count\" : 26541,\n",
    "    }\n",
    "];\n",
    "\n",
    "    "
   ]
  },
  {
   "cell_type": "code",
   "execution_count": 5,
   "metadata": {
    "collapsed": false
   },
   "outputs": [
    {
     "name": "stderr",
     "output_type": "stream",
     "text": [
      "------------------------------------------------------------------------------\n",
      "data.table + dplyr code now lives in dtplyr.\n",
      "Please library(dtplyr)!\n",
      "------------------------------------------------------------------------------\n",
      "\n",
      "Attaching package: 'dplyr'\n",
      "\n",
      "The following objects are masked from 'package:data.table':\n",
      "\n",
      "    between, last\n",
      "\n",
      "The following objects are masked from 'package:stats':\n",
      "\n",
      "    filter, lag\n",
      "\n",
      "The following objects are masked from 'package:base':\n",
      "\n",
      "    intersect, setdiff, setequal, union\n",
      "\n",
      "Loading required package: bitops\n",
      "Loading required package: lattice\n",
      "Loading required package: survival\n",
      "Loading required package: Formula\n",
      "Loading required package: ggplot2\n",
      "\n",
      "Attaching package: 'Hmisc'\n",
      "\n",
      "The following objects are masked from 'package:dplyr':\n",
      "\n",
      "    combine, src, summarize\n",
      "\n",
      "The following objects are masked from 'package:base':\n",
      "\n",
      "    format.pval, round.POSIXt, trunc.POSIXt, units\n",
      "\n"
     ]
    }
   ],
   "source": [
    "#load packages, set working directory, and load data:\n",
    "library(dplyr)\n",
    "library(RCurl)\n",
    "library(readr)\n",
    "library(Hmisc)#using mdb.get from here.\n",
    "library(magrittr)#use %<>% from here\n",
    "library(stringr)\n",
    "\n",
    "\n",
    "root <- \"~/Desktop\"#change if you'd like. \n",
    "remotePath <- \"http://www2.census.gov/census_2010/04-Summary_File_1/\"\n",
    "setwd(root)\n",
    "\n",
    "# data from http://www2.census.gov/census_2010/04-Summary_File_1/Wisconsin/wi2010.sf1.zip\n",
    "\n",
    "#select state and create new folder for that state's data. \n",
    "state <- \"Wisconsin\"\n",
    "abb <- \"wi\"#to do: automate this later to abbreviate each state instead of hand labelling. \n",
    "if(!dir.exists(\"summary-files\")) dir.create(\"summary-files\")\n",
    "setwd(\"summary-files\")\n",
    "\n",
    "if(!dir.exists(state)) dir.create(state)\n",
    "setwd(state)\n",
    "\n",
    "temp <- tempfile()\n",
    "if(!file.exists(\"wi000012010.sf1\")) {#download and unzip files if not already in directory\n",
    "    download.file(paste0(remotePath, state,\"/\", paste0(abb,\"2010.sf1.zip\")),\n",
    "                                                           destfile = temp, quiet = TRUE, method = \"curl\")\n",
    "    unzip(temp)\n",
    "    }\n",
    "#now all state demographic files should be in working directory.     \n",
    "#pct12 contains all age,sex,and race totals in summary file 1.\n",
    "    "
   ]
  },
  {
   "cell_type": "code",
   "execution_count": 6,
   "metadata": {
    "collapsed": false
   },
   "outputs": [
    {
     "data": {
      "text/plain": [
       "    SORT.ID        SEGMENT       TABLE.NUMBER                     FIELD.NAME  \n",
       " Min.   :   1   Min.   : 1.00   PCT12  : 211   Total:                  : 220  \n",
       " 1st Qu.:2404   1st Qu.:11.00   PCT12A : 211             20 years      :  72  \n",
       " Median :4808   Median :23.00   PCT12B : 211             21 years      :  72  \n",
       " Mean   :4808   Mean   :23.25   PCT12C : 211             10 to 14 years:  60  \n",
       " 3rd Qu.:7211   3rd Qu.:34.00   PCT12D : 211             25 to 29 years:  60  \n",
       " Max.   :9614   Max.   :47.00   PCT12E : 211             30 to 34 years:  60  \n",
       "                                (Other):8348   (Other)                 :9070  \n",
       "     FIELD.CODE      DECIMAL      \n",
       "          : 702   Min.   :0.0000  \n",
       " H00010001:   1   1st Qu.:0.0000  \n",
       " H0020001 :   1   Median :0.0000  \n",
       " H0020002 :   1   Mean   :0.0237  \n",
       " H0020003 :   1   3rd Qu.:0.0000  \n",
       " H0020004 :   1   Max.   :2.0000  \n",
       " (Other)  :8907   NA's   :739     "
      ]
     },
     "metadata": {},
     "output_type": "display_data"
    },
    {
     "name": "stderr",
     "output_type": "stream",
     "text": [
      "Warning message in cbind(f_parts$left, ellip_h, f_parts$right, deparse.level = 0L):\n",
      "\"number of rows of result is not a multiple of vector length (arg 2)\"Warning message in cbind(f_parts$left, ellip_h, f_parts$right, deparse.level = 0L):\n",
      "\"number of rows of result is not a multiple of vector length (arg 2)\"Warning message in cbind(f_parts$left, ellip_h, f_parts$right, deparse.level = 0L):\n",
      "\"number of rows of result is not a multiple of vector length (arg 2)\""
     ]
    },
    {
     "data": {
      "text/html": [
       "<table>\n",
       "<thead><tr><th scope=col>FILEID</th><th scope=col>STUSAB</th><th scope=col>CHARITER</th><th scope=col>CIFSN</th><th scope=col>LOGRECNO</th><th scope=col>P0500001</th><th scope=col>P0500002</th><th scope=col>P0500003</th><th scope=col>P0510001</th><th scope=col>P0510002</th><th scope=col>⋯</th><th scope=col>P012E040</th><th scope=col>P012E041</th><th scope=col>P012E042</th><th scope=col>P012E043</th><th scope=col>P012E044</th><th scope=col>P012E045</th><th scope=col>P012E046</th><th scope=col>P012E047</th><th scope=col>P012E048</th><th scope=col>P012E049</th></tr></thead>\n",
       "<tbody>\n",
       "</tbody>\n",
       "</table>\n"
      ],
      "text/latex": [
       "\\begin{tabular}{r|llllllllllllllllllllllllllllllllllllllllllllllllllllllllllllllllllllllllllllllllllllllllllllllllllllllllllllllllllllllllllllllllllllllllllllllllllllllllllllllllllllllllllllllllllllllllllllllllllllllllllllllllllllllllllllllllllllllllllllllllllllllllllllllll}\n",
       " FILEID & STUSAB & CHARITER & CIFSN & LOGRECNO & P0500001 & P0500002 & P0500003 & P0510001 & P0510002 & ⋯ & P012E040 & P012E041 & P012E042 & P012E043 & P012E044 & P012E045 & P012E046 & P012E047 & P012E048 & P012E049\\\\\n",
       "\\hline\n",
       "\\end{tabular}\n"
      ],
      "text/plain": [
       "     FILEID STUSAB CHARITER CIFSN LOGRECNO P0500001 P0500002 P0500003 P0510001\n",
       "     P0510002 <U+22EF>   P012E040 P012E041 P012E042 P012E043 P012E044 P012E045\n",
       "     P012E046 P012E047 P012E048 P012E049"
      ]
     },
     "metadata": {},
     "output_type": "display_data"
    },
    {
     "name": "stderr",
     "output_type": "stream",
     "text": [
      "Warning message in cbind(f_parts$left, ellip_h, f_parts$right, deparse.level = 0L):\n",
      "\"number of rows of result is not a multiple of vector length (arg 2)\"Warning message in cbind(f_parts$left, ellip_h, f_parts$right, deparse.level = 0L):\n",
      "\"number of rows of result is not a multiple of vector length (arg 2)\"Warning message in cbind(f_parts$left, ellip_h, f_parts$right, deparse.level = 0L):\n",
      "\"number of rows of result is not a multiple of vector length (arg 2)\""
     ]
    },
    {
     "data": {
      "text/html": [
       "<table>\n",
       "<thead><tr><th scope=col>FILEID</th><th scope=col>STUSAB</th><th scope=col>CHARITER</th><th scope=col>CIFSN</th><th scope=col>LOGRECNO</th><th scope=col>P012F001</th><th scope=col>P012F002</th><th scope=col>P012F003</th><th scope=col>P012F004</th><th scope=col>P012F005</th><th scope=col>⋯</th><th scope=col>P016G003</th><th scope=col>P016H001</th><th scope=col>P016H002</th><th scope=col>P016H003</th><th scope=col>P016I001</th><th scope=col>P016I002</th><th scope=col>P016I003</th><th scope=col>P017A001</th><th scope=col>P017A002</th><th scope=col>P017A003</th></tr></thead>\n",
       "<tbody>\n",
       "</tbody>\n",
       "</table>\n"
      ],
      "text/latex": [
       "\\begin{tabular}{r|llllllllllllllllllllllllllllllllllllllllllllllllllllllllllllllllllllllllllllllllllllllllllllllllllllllllllllllllllllllllllllllllllllllllllllllllllllllllllllllllllllllllllllllllllllllllllllllllllllllllllllllllllllllllllllllllllllllllllllllllllllllllllllllllll}\n",
       " FILEID & STUSAB & CHARITER & CIFSN & LOGRECNO & P012F001 & P012F002 & P012F003 & P012F004 & P012F005 & ⋯ & P016G003 & P016H001 & P016H002 & P016H003 & P016I001 & P016I002 & P016I003 & P017A001 & P017A002 & P017A003\\\\\n",
       "\\hline\n",
       "\\end{tabular}\n"
      ],
      "text/plain": [
       "     FILEID STUSAB CHARITER CIFSN LOGRECNO P012F001 P012F002 P012F003 P012F004\n",
       "     P012F005 <U+22EF>   P016G003 P016H001 P016H002 P016H003 P016I001 P016I002\n",
       "     P016I003 P017A001 P017A002 P017A003"
      ]
     },
     "metadata": {},
     "output_type": "display_data"
    },
    {
     "data": {
      "text/html": [
       "<table>\n",
       "<thead><tr><th scope=col>DESC</th><th scope=col>NAME</th><th scope=col>LEN</th></tr></thead>\n",
       "<tbody>\n",
       "\t<tr><td>File Identification                          </td><td>FILEID                                       </td><td>6                                            </td></tr>\n",
       "\t<tr><td>State/US-Abbreviation (USPS)                 </td><td>STUSAB                                       </td><td>2                                            </td></tr>\n",
       "\t<tr><td>Summary Level                                </td><td>SUMLEV                                       </td><td>3                                            </td></tr>\n",
       "\t<tr><td>Geographic Component                         </td><td>GEOCOMP                                      </td><td>2                                            </td></tr>\n",
       "\t<tr><td>Characteristic Iteration                     </td><td>CHARITER                                     </td><td>3                                            </td></tr>\n",
       "\t<tr><td>Characteristic Iteration File Sequence Number</td><td>CIFSN                                        </td><td>2                                            </td></tr>\n",
       "</tbody>\n",
       "</table>\n"
      ],
      "text/latex": [
       "\\begin{tabular}{r|lll}\n",
       " DESC & NAME & LEN\\\\\n",
       "\\hline\n",
       "\t File Identification                           & FILEID                                        & 6                                            \\\\\n",
       "\t State/US-Abbreviation (USPS)                  & STUSAB                                        & 2                                            \\\\\n",
       "\t Summary Level                                 & SUMLEV                                        & 3                                            \\\\\n",
       "\t Geographic Component                          & GEOCOMP                                       & 2                                            \\\\\n",
       "\t Characteristic Iteration                      & CHARITER                                      & 3                                            \\\\\n",
       "\t Characteristic Iteration File Sequence Number & CIFSN                                         & 2                                            \\\\\n",
       "\\end{tabular}\n"
      ],
      "text/plain": [
       "  DESC                                          NAME     LEN\n",
       "1 File Identification                           FILEID   6  \n",
       "2 State/US-Abbreviation (USPS)                  STUSAB   2  \n",
       "3 Summary Level                                 SUMLEV   3  \n",
       "4 Geographic Component                          GEOCOMP  2  \n",
       "5 Characteristic Iteration                      CHARITER 3  \n",
       "6 Characteristic Iteration File Sequence Number CIFSN    2  "
      ]
     },
     "metadata": {},
     "output_type": "display_data"
    }
   ],
   "source": [
    "#Obtain Feature Labels from MS Access files:\n",
    "if(!file.exists(\"SF1_Access2003.mdb\")) download.file(\"http://www2.census.gov/census_2010/04-Summary_File_1/SF1_Access2003.mdb\",\n",
    "              destfile = \"SF1_Access2003.mdb\",quiet=TRUE,method=\"curl\")\n",
    "if(!file.exists(\"DPSF2010_Access2003.mdb\")) download.file(\"http://www2.census.gov/census_2010/03-Demographic_Profile/DPSF2010_Access2003.mdb\",\n",
    "              destfile = \"DPSF2010_Access2003.mdb\",quiet=TRUE,method=\"curl\")\n",
    "    \n",
    "mdb.get(\"SF1_Access2003.mdb\",tables=\"DATA_FIELD_DESCRIPTORS\") -> descriptions #names corresponding to demographic headers.\n",
    "mdb.get(\"SF1_Access2003.mdb\",tables=\"SF1_00001\") -> demHeader\n",
    "mdb.get(\"SF1_Access2003.mdb\",tables=\"SF1_00007mod\") -> demNames_07 #These contain all of the demographic headers down to \n",
    "mdb.get(\"SF1_Access2003.mdb\",tables=\"SF1_00008mod\") -> demNames_08 ##the block level\n",
    "#mdb.get(\"SF1_Access2003.mdb\",tables=\"GEO_HEADER_SF1\") -> geoHeaders #The geographic information for each row of data.    \n",
    "mdb.get(\"DPSF2010_Access2003.mdb\", tables=\"Header\") -> geoHeaders ####might not even need this.\n",
    "dem07 <- cbind(demHeader[1:4], demNames_07)\n",
    "dem08 <- cbind(demHeader[1:4], demNames_08)\n",
    "summary(descriptions)\n",
    "head(dem07)\n",
    "head(dem08)\n",
    "head(geoHeaders)"
   ]
  },
  {
   "cell_type": "code",
   "execution_count": 8,
   "metadata": {
    "collapsed": false
   },
   "outputs": [],
   "source": [
    "#Merge headers to data files:\n",
    "\n",
    "if(!file.exists(paste0(abb,\"000072010.sf1\"))) paste0(abb,\"000072010.sf1\") %>% read_csv(col_names=FALSE,\n",
    "                                          col_types = cols(.default = col_character())) -> sf_07\n",
    "if(!file.exists(paste0(abb,\"000082010.sf1\"))) paste0(abb,\"000082010.sf1\") %>% read_csv(col_names=FALSE,\n",
    "                                          col_types = cols(.default = col_character())) -> sf_08\n",
    "if(!file.exists(paste0(abb,\"geo2010.sf1\"))) read_fwf(paste0(abb,\"geo2010.sf1\"), fwf_widths(geoHeaders$LEN,col_names=as.character(geoHeaders$NAME)),\n",
    "         col_types = cols(.default = col_character()))-> geoData\n",
    "\n"
   ]
  },
  {
   "cell_type": "code",
   "execution_count": 9,
   "metadata": {
    "collapsed": false
   },
   "outputs": [
    {
     "data": {
      "text/html": [
       "<table>\n",
       "<thead><tr><th scope=col>FILEID</th><th scope=col>STUSAB</th><th scope=col>SUMLEV</th><th scope=col>GEOCOMP</th><th scope=col>CHARITER</th><th scope=col>CIFSN</th><th scope=col>LOGRECNO</th><th scope=col>REGION</th><th scope=col>DIVISION</th><th scope=col>STATE</th><th scope=col>⋯</th><th scope=col>SLDL2</th><th scope=col>SLDL3</th><th scope=col>SLDL4</th><th scope=col>AIANHHSC</th><th scope=col>CSASC</th><th scope=col>CNECTASC</th><th scope=col>MEMI</th><th scope=col>NMEMI</th><th scope=col>PUMA</th><th scope=col>RESERVED</th></tr></thead>\n",
       "<tbody>\n",
       "\t<tr><td>SF1ST   </td><td>WI      </td><td>050     </td><td>00      </td><td>000     </td><td>NA      </td><td>0000020 </td><td>2       </td><td>3       </td><td>55      </td><td><U+22EF></td><td>NA      </td><td>NA      </td><td>NA      </td><td>NA      </td><td>00      </td><td>NA      </td><td>9       </td><td>NA      </td><td>NA      </td><td>NA      </td></tr>\n",
       "\t<tr><td>SF1ST   </td><td>WI      </td><td>050     </td><td>00      </td><td>000     </td><td>NA      </td><td>0002473 </td><td>2       </td><td>3       </td><td>55      </td><td><U+22EF></td><td>NA      </td><td>NA      </td><td>NA      </td><td>NA      </td><td>00      </td><td>NA      </td><td>9       </td><td>NA      </td><td>NA      </td><td>NA      </td></tr>\n",
       "\t<tr><td>SF1ST   </td><td>WI      </td><td>050     </td><td>00      </td><td>000     </td><td>NA      </td><td>0004915 </td><td>2       </td><td>3       </td><td>55      </td><td><U+22EF></td><td>NA      </td><td>NA      </td><td>NA      </td><td>NA      </td><td>00      </td><td>NA      </td><td>9       </td><td>NA      </td><td>NA      </td><td>NA      </td></tr>\n",
       "\t<tr><td>SF1ST   </td><td>WI      </td><td>050     </td><td>00      </td><td>000     </td><td>NA      </td><td>0008619 </td><td>2       </td><td>3       </td><td>55      </td><td><U+22EF></td><td>NA      </td><td>NA      </td><td>NA      </td><td>NA      </td><td>00      </td><td>NA      </td><td>9       </td><td>NA      </td><td>NA      </td><td>NA      </td></tr>\n",
       "\t<tr><td>SF1ST   </td><td>WI      </td><td>050     </td><td>00      </td><td>000     </td><td>NA      </td><td>0011746 </td><td>2       </td><td>3       </td><td>55      </td><td><U+22EF></td><td>NA      </td><td>NA      </td><td>NA      </td><td>NA      </td><td>00      </td><td>NA      </td><td>1       </td><td>NA      </td><td>NA      </td><td>NA      </td></tr>\n",
       "\t<tr><td>SF1ST   </td><td>WI      </td><td>050     </td><td>00      </td><td>000     </td><td>NA      </td><td>0018034 </td><td>2       </td><td>3       </td><td>55      </td><td><U+22EF></td><td>NA      </td><td>NA      </td><td>NA      </td><td>NA      </td><td>00      </td><td>NA      </td><td>9       </td><td>NA      </td><td>NA      </td><td>NA      </td></tr>\n",
       "</tbody>\n",
       "</table>\n"
      ],
      "text/latex": [
       "\\begin{tabular}{r|lllllllllllllllllllllllllllllllllllllllllllllllllllllllllllllllllllllllllllllllllllllllllllllllllllll}\n",
       " FILEID & STUSAB & SUMLEV & GEOCOMP & CHARITER & CIFSN & LOGRECNO & REGION & DIVISION & STATE & ⋯ & SLDL2 & SLDL3 & SLDL4 & AIANHHSC & CSASC & CNECTASC & MEMI & NMEMI & PUMA & RESERVED\\\\\n",
       "\\hline\n",
       "\t SF1ST    & WI       & 050      & 00       & 000      & NA       & 0000020  & 2        & 3        & 55       & <U+22EF> & NA       & NA       & NA       & NA       & 00       & NA       & 9        & NA       & NA       & NA      \\\\\n",
       "\t SF1ST    & WI       & 050      & 00       & 000      & NA       & 0002473  & 2        & 3        & 55       & <U+22EF> & NA       & NA       & NA       & NA       & 00       & NA       & 9        & NA       & NA       & NA      \\\\\n",
       "\t SF1ST    & WI       & 050      & 00       & 000      & NA       & 0004915  & 2        & 3        & 55       & <U+22EF> & NA       & NA       & NA       & NA       & 00       & NA       & 9        & NA       & NA       & NA      \\\\\n",
       "\t SF1ST    & WI       & 050      & 00       & 000      & NA       & 0008619  & 2        & 3        & 55       & <U+22EF> & NA       & NA       & NA       & NA       & 00       & NA       & 9        & NA       & NA       & NA      \\\\\n",
       "\t SF1ST    & WI       & 050      & 00       & 000      & NA       & 0011746  & 2        & 3        & 55       & <U+22EF> & NA       & NA       & NA       & NA       & 00       & NA       & 1        & NA       & NA       & NA      \\\\\n",
       "\t SF1ST    & WI       & 050      & 00       & 000      & NA       & 0018034  & 2        & 3        & 55       & <U+22EF> & NA       & NA       & NA       & NA       & 00       & NA       & 9        & NA       & NA       & NA      \\\\\n",
       "\\end{tabular}\n"
      ],
      "text/plain": [
       "  FILEID STUSAB SUMLEV GEOCOMP CHARITER CIFSN LOGRECNO REGION DIVISION STATE\n",
       "1 SF1ST  WI     050    00      000      NA    0000020  2      3        55   \n",
       "2 SF1ST  WI     050    00      000      NA    0002473  2      3        55   \n",
       "3 SF1ST  WI     050    00      000      NA    0004915  2      3        55   \n",
       "4 SF1ST  WI     050    00      000      NA    0008619  2      3        55   \n",
       "5 SF1ST  WI     050    00      000      NA    0011746  2      3        55   \n",
       "6 SF1ST  WI     050    00      000      NA    0018034  2      3        55   \n",
       "  <U+22EF>   SLDL2 SLDL3 SLDL4 AIANHHSC CSASC CNECTASC MEMI NMEMI PUMA RESERVED\n",
       "1 <U+22EF> NA    NA    NA    NA       00    NA       9    NA    NA   NA      \n",
       "2 <U+22EF> NA    NA    NA    NA       00    NA       9    NA    NA   NA      \n",
       "3 <U+22EF> NA    NA    NA    NA       00    NA       9    NA    NA   NA      \n",
       "4 <U+22EF> NA    NA    NA    NA       00    NA       9    NA    NA   NA      \n",
       "5 <U+22EF> NA    NA    NA    NA       00    NA       1    NA    NA   NA      \n",
       "6 <U+22EF> NA    NA    NA    NA       00    NA       9    NA    NA   NA      "
      ]
     },
     "metadata": {},
     "output_type": "display_data"
    }
   ],
   "source": [
    "geo <- geoData %>% filter(SUMLEV==\"050\")#county level data\n",
    "head(geo)"
   ]
  },
  {
   "cell_type": "code",
   "execution_count": 10,
   "metadata": {
    "collapsed": false
   },
   "outputs": [
    {
     "data": {
      "text/html": [
       "<table>\n",
       "<thead><tr><th scope=col>FILEID</th><th scope=col>STUSAB</th><th scope=col>CHARITER</th><th scope=col>CIFSN</th><th scope=col>LOGRECNO</th><th scope=col>P0500001</th><th scope=col>P0500002</th><th scope=col>P0500003</th><th scope=col>P0510001</th><th scope=col>P0510002</th><th scope=col>⋯</th><th scope=col>P012E040</th><th scope=col>P012E041</th><th scope=col>P012E042</th><th scope=col>P012E043</th><th scope=col>P012E044</th><th scope=col>P012E045</th><th scope=col>P012E046</th><th scope=col>P012E047</th><th scope=col>P012E048</th><th scope=col>P012E049</th></tr></thead>\n",
       "<tbody>\n",
       "\t<tr><td>SF1ST   </td><td>WI      </td><td>000     </td><td>07      </td><td>0000001 </td><td>5474377 </td><td>61643   </td><td>5412734 </td><td>150214  </td><td>136706  </td><td><U+22EF></td><td>56      </td><td>47      </td><td>13      </td><td>21      </td><td>6       </td><td>12      </td><td>6       </td><td>4       </td><td>3       </td><td>4       </td></tr>\n",
       "\t<tr><td>SF1ST   </td><td>WI      </td><td>000     </td><td>07      </td><td>0000002 </td><td>37100   </td><td>382     </td><td>36718   </td><td>261     </td><td>239     </td><td><U+22EF></td><td>0       </td><td>2       </td><td>0       </td><td>0       </td><td>0       </td><td>0       </td><td>0       </td><td>0       </td><td>0       </td><td>0       </td></tr>\n",
       "\t<tr><td>SF1ST   </td><td>WI      </td><td>000     </td><td>07      </td><td>0000003 </td><td>0       </td><td>0       </td><td>0       </td><td>0       </td><td>0       </td><td><U+22EF></td><td>0       </td><td>0       </td><td>0       </td><td>0       </td><td>0       </td><td>0       </td><td>0       </td><td>0       </td><td>0       </td><td>0       </td></tr>\n",
       "\t<tr><td>SF1ST   </td><td>WI      </td><td>000     </td><td>07      </td><td>0000004 </td><td>0       </td><td>0       </td><td>0       </td><td>0       </td><td>0       </td><td><U+22EF></td><td>0       </td><td>0       </td><td>0       </td><td>0       </td><td>0       </td><td>0       </td><td>0       </td><td>0       </td><td>0       </td><td>0       </td></tr>\n",
       "\t<tr><td>SF1ST   </td><td>WI      </td><td>000     </td><td>07      </td><td>0000005 </td><td>0       </td><td>0       </td><td>0       </td><td>0       </td><td>0       </td><td><U+22EF></td><td>0       </td><td>0       </td><td>0       </td><td>0       </td><td>0       </td><td>0       </td><td>0       </td><td>0       </td><td>0       </td><td>0       </td></tr>\n",
       "\t<tr><td>SF1ST   </td><td>WI      </td><td>000     </td><td>07      </td><td>0000006 </td><td>0       </td><td>0       </td><td>0       </td><td>0       </td><td>0       </td><td><U+22EF></td><td>0       </td><td>0       </td><td>0       </td><td>0       </td><td>0       </td><td>0       </td><td>0       </td><td>0       </td><td>0       </td><td>0       </td></tr>\n",
       "</tbody>\n",
       "</table>\n"
      ],
      "text/latex": [
       "\\begin{tabular}{r|llllllllllllllllllllllllllllllllllllllllllllllllllllllllllllllllllllllllllllllllllllllllllllllllllllllllllllllllllllllllllllllllllllllllllllllllllllllllllllllllllllllllllllllllllllllllllllllllllllllllllllllllllllllllllllllllllllllllllllllllllllllllllllllll}\n",
       " FILEID & STUSAB & CHARITER & CIFSN & LOGRECNO & P0500001 & P0500002 & P0500003 & P0510001 & P0510002 & ⋯ & P012E040 & P012E041 & P012E042 & P012E043 & P012E044 & P012E045 & P012E046 & P012E047 & P012E048 & P012E049\\\\\n",
       "\\hline\n",
       "\t SF1ST    & WI       & 000      & 07       & 0000001  & 5474377  & 61643    & 5412734  & 150214   & 136706   & <U+22EF> & 56       & 47       & 13       & 21       & 6        & 12       & 6        & 4        & 3        & 4       \\\\\n",
       "\t SF1ST    & WI       & 000      & 07       & 0000002  & 37100    & 382      & 36718    & 261      & 239      & <U+22EF> & 0        & 2        & 0        & 0        & 0        & 0        & 0        & 0        & 0        & 0       \\\\\n",
       "\t SF1ST    & WI       & 000      & 07       & 0000003  & 0        & 0        & 0        & 0        & 0        & <U+22EF> & 0        & 0        & 0        & 0        & 0        & 0        & 0        & 0        & 0        & 0       \\\\\n",
       "\t SF1ST    & WI       & 000      & 07       & 0000004  & 0        & 0        & 0        & 0        & 0        & <U+22EF> & 0        & 0        & 0        & 0        & 0        & 0        & 0        & 0        & 0        & 0       \\\\\n",
       "\t SF1ST    & WI       & 000      & 07       & 0000005  & 0        & 0        & 0        & 0        & 0        & <U+22EF> & 0        & 0        & 0        & 0        & 0        & 0        & 0        & 0        & 0        & 0       \\\\\n",
       "\t SF1ST    & WI       & 000      & 07       & 0000006  & 0        & 0        & 0        & 0        & 0        & <U+22EF> & 0        & 0        & 0        & 0        & 0        & 0        & 0        & 0        & 0        & 0       \\\\\n",
       "\\end{tabular}\n"
      ],
      "text/plain": [
       "  FILEID STUSAB CHARITER CIFSN LOGRECNO P0500001 P0500002 P0500003 P0510001\n",
       "1 SF1ST  WI     000      07    0000001  5474377  61643    5412734  150214  \n",
       "2 SF1ST  WI     000      07    0000002  37100    382      36718    261     \n",
       "3 SF1ST  WI     000      07    0000003  0        0        0        0       \n",
       "4 SF1ST  WI     000      07    0000004  0        0        0        0       \n",
       "5 SF1ST  WI     000      07    0000005  0        0        0        0       \n",
       "6 SF1ST  WI     000      07    0000006  0        0        0        0       \n",
       "  P0510002 <U+22EF>   P012E040 P012E041 P012E042 P012E043 P012E044 P012E045\n",
       "1 136706   <U+22EF> 56       47       13       21       6        12      \n",
       "2 239      <U+22EF> 0        2        0        0        0        0       \n",
       "3 0        <U+22EF> 0        0        0        0        0        0       \n",
       "4 0        <U+22EF> 0        0        0        0        0        0       \n",
       "5 0        <U+22EF> 0        0        0        0        0        0       \n",
       "6 0        <U+22EF> 0        0        0        0        0        0       \n",
       "  P012E046 P012E047 P012E048 P012E049\n",
       "1 6        4        3        4       \n",
       "2 0        0        0        0       \n",
       "3 0        0        0        0       \n",
       "4 0        0        0        0       \n",
       "5 0        0        0        0       \n",
       "6 0        0        0        0       "
      ]
     },
     "metadata": {},
     "output_type": "display_data"
    }
   ],
   "source": [
    "geo1 <- geo %>% select(STUSAB, SUMLEV, GEOCOMP, LOGRECNO, STATE, COUNTY, COUNTYCC, NAME)\n",
    "names(sf_07) <- names(dem07)\n",
    "names(sf_08) <- names(dem08)\n",
    "head(sf_07)"
   ]
  },
  {
   "cell_type": "code",
   "execution_count": 45,
   "metadata": {
    "collapsed": false
   },
   "outputs": [
    {
     "data": {
      "text/html": [
       "<table>\n",
       "<thead><tr><th scope=col>STUSAB</th><th scope=col>SUMLEV</th><th scope=col>GEOCOMP</th><th scope=col>LOGRECNO</th><th scope=col>STATE</th><th scope=col>COUNTY</th><th scope=col>COUNTYCC</th><th scope=col>NAME</th></tr></thead>\n",
       "<tbody>\n",
       "\t<tr><td>WI             </td><td>050            </td><td>00             </td><td>0000020        </td><td>55             </td><td>001            </td><td>H1             </td><td>Adams County   </td></tr>\n",
       "\t<tr><td>WI             </td><td>050            </td><td>00             </td><td>0002473        </td><td>55             </td><td>003            </td><td>H1             </td><td>Ashland County </td></tr>\n",
       "\t<tr><td>WI             </td><td>050            </td><td>00             </td><td>0004915        </td><td>55             </td><td>005            </td><td>H1             </td><td>Barron County  </td></tr>\n",
       "\t<tr><td>WI             </td><td>050            </td><td>00             </td><td>0008619        </td><td>55             </td><td>007            </td><td>H1             </td><td>Bayfield County</td></tr>\n",
       "\t<tr><td>WI             </td><td>050            </td><td>00             </td><td>0011746        </td><td>55             </td><td>009            </td><td>H1             </td><td>Brown County   </td></tr>\n",
       "\t<tr><td>WI             </td><td>050            </td><td>00             </td><td>0018034        </td><td>55             </td><td>011            </td><td>H1             </td><td>Buffalo County </td></tr>\n",
       "</tbody>\n",
       "</table>\n"
      ],
      "text/latex": [
       "\\begin{tabular}{r|llllllll}\n",
       " STUSAB & SUMLEV & GEOCOMP & LOGRECNO & STATE & COUNTY & COUNTYCC & NAME\\\\\n",
       "\\hline\n",
       "\t WI              & 050             & 00              & 0000020         & 55              & 001             & H1              & Adams County   \\\\\n",
       "\t WI              & 050             & 00              & 0002473         & 55              & 003             & H1              & Ashland County \\\\\n",
       "\t WI              & 050             & 00              & 0004915         & 55              & 005             & H1              & Barron County  \\\\\n",
       "\t WI              & 050             & 00              & 0008619         & 55              & 007             & H1              & Bayfield County\\\\\n",
       "\t WI              & 050             & 00              & 0011746         & 55              & 009             & H1              & Brown County   \\\\\n",
       "\t WI              & 050             & 00              & 0018034         & 55              & 011             & H1              & Buffalo County \\\\\n",
       "\\end{tabular}\n"
      ],
      "text/plain": [
       "  STUSAB SUMLEV GEOCOMP LOGRECNO STATE COUNTY COUNTYCC NAME           \n",
       "1 WI     050    00      0000020  55    001    H1       Adams County   \n",
       "2 WI     050    00      0002473  55    003    H1       Ashland County \n",
       "3 WI     050    00      0004915  55    005    H1       Barron County  \n",
       "4 WI     050    00      0008619  55    007    H1       Bayfield County\n",
       "5 WI     050    00      0011746  55    009    H1       Brown County   \n",
       "6 WI     050    00      0018034  55    011    H1       Buffalo County "
      ]
     },
     "metadata": {},
     "output_type": "display_data"
    }
   ],
   "source": [
    "library(data.table)\n",
    "sfa <- data.table(sf_07, key=\"LOGRECNO\")\n",
    "sfb <- data.table(sf_08, key=\"LOGRECNO\")\n",
    "geo_table <- data.table(geo1, key = \"LOGRECNO\")\n",
    "head(geo_table)"
   ]
  },
  {
   "cell_type": "code",
   "execution_count": 49,
   "metadata": {
    "collapsed": false
   },
   "outputs": [
    {
     "data": {
      "text/html": [
       "<table>\n",
       "<thead><tr><th scope=col>LOGRECNO</th><th scope=col>STUSAB.x</th><th scope=col>SUMLEV</th><th scope=col>GEOCOMP</th><th scope=col>STATE</th><th scope=col>COUNTY</th><th scope=col>COUNTYCC</th><th scope=col>NAME</th><th scope=col>P012A001</th><th scope=col>P012A002</th><th scope=col>⋯</th><th scope=col>P012I040</th><th scope=col>P012I041</th><th scope=col>P012I042</th><th scope=col>P012I043</th><th scope=col>P012I044</th><th scope=col>P012I045</th><th scope=col>P012I046</th><th scope=col>P012I047</th><th scope=col>P012I048</th><th scope=col>P012I049</th></tr></thead>\n",
       "<tbody>\n",
       "\t<tr><td>0000020        </td><td>WI             </td><td>050            </td><td>00             </td><td>55             </td><td>001            </td><td>H1             </td><td>Adams County   </td><td>19409          </td><td>10080          </td><td><U+22EF>       </td><td>779            </td><td>818            </td><td>327            </td><td>528            </td><td>332            </td><td>508            </td><td>603            </td><td>415            </td><td>309            </td><td>253            </td></tr>\n",
       "\t<tr><td>0002473        </td><td>WI             </td><td>050            </td><td>00             </td><td>55             </td><td>003            </td><td>H1             </td><td>Ashland County </td><td>13662          </td><td>6868           </td><td><U+22EF>       </td><td>533            </td><td>506            </td><td>188            </td><td>245            </td><td>157            </td><td>182            </td><td>243            </td><td>228            </td><td>242            </td><td>258            </td></tr>\n",
       "\t<tr><td>0004915        </td><td>WI             </td><td>050            </td><td>00             </td><td>55             </td><td>005            </td><td>H1             </td><td>Barron County  </td><td>44076          </td><td>21884          </td><td><U+22EF>       </td><td>1740           </td><td>1630           </td><td>626            </td><td>849            </td><td>543            </td><td>723            </td><td>970            </td><td>863            </td><td>666            </td><td>870            </td></tr>\n",
       "\t<tr><td>0008619        </td><td>WI             </td><td>050            </td><td>00             </td><td>55             </td><td>007            </td><td>H1             </td><td>Bayfield County</td><td>13024          </td><td>6721           </td><td><U+22EF>       </td><td>612            </td><td>670            </td><td>255            </td><td>340            </td><td>213            </td><td>298            </td><td>360            </td><td>252            </td><td>155            </td><td>213            </td></tr>\n",
       "\t<tr><td>0011746        </td><td>WI             </td><td>050            </td><td>00             </td><td>55             </td><td>009            </td><td>H1             </td><td>Brown County   </td><td>214415         </td><td>105076         </td><td><U+22EF>       </td><td>8471           </td><td>7529           </td><td>2542           </td><td>3393           </td><td>1836           </td><td>2436           </td><td>3302           </td><td>2925           </td><td>2452           </td><td>2951           </td></tr>\n",
       "\t<tr><td>0018034        </td><td>WI             </td><td>050            </td><td>00             </td><td>55             </td><td>011            </td><td>H1             </td><td>Buffalo County </td><td>13253          </td><td>6667           </td><td><U+22EF>       </td><td>571            </td><td>464            </td><td>199            </td><td>223            </td><td>157            </td><td>172            </td><td>310            </td><td>234            </td><td>206            </td><td>217            </td></tr>\n",
       "</tbody>\n",
       "</table>\n"
      ],
      "text/latex": [
       "\\begin{tabular}{r|lllllllllllllllllllllllllllllllllllllllllllllllllllllllllllllllllllllllllllllllllllllllllllllllllllllllllllllllllllllllllllllllllllllllllllllllllllllllllllllllllllllllllllllllllllllllllllllllllllllllllllllllllllllllllllllllllllllllllllllllllllllllllllllllllllllllllllllllllllllllllllllllllllllllllllllllllllllllllllllllllllllllllllllllllllllllllllllllllllllllllllllllllllllllllllllllllllllllllllllllllllllllllllllllllllllllllllllllllllllllllllllllll}\n",
       " LOGRECNO & STUSAB.x & SUMLEV & GEOCOMP & STATE & COUNTY & COUNTYCC & NAME & P012A001 & P012A002 & ⋯ & P012I040 & P012I041 & P012I042 & P012I043 & P012I044 & P012I045 & P012I046 & P012I047 & P012I048 & P012I049\\\\\n",
       "\\hline\n",
       "\t 0000020         & WI              & 050             & 00              & 55              & 001             & H1              & Adams County    & 19409           & 10080           & <U+22EF>        & 779             & 818             & 327             & 528             & 332             & 508             & 603             & 415             & 309             & 253            \\\\\n",
       "\t 0002473         & WI              & 050             & 00              & 55              & 003             & H1              & Ashland County  & 13662           & 6868            & <U+22EF>        & 533             & 506             & 188             & 245             & 157             & 182             & 243             & 228             & 242             & 258            \\\\\n",
       "\t 0004915         & WI              & 050             & 00              & 55              & 005             & H1              & Barron County   & 44076           & 21884           & <U+22EF>        & 1740            & 1630            & 626             & 849             & 543             & 723             & 970             & 863             & 666             & 870            \\\\\n",
       "\t 0008619         & WI              & 050             & 00              & 55              & 007             & H1              & Bayfield County & 13024           & 6721            & <U+22EF>        & 612             & 670             & 255             & 340             & 213             & 298             & 360             & 252             & 155             & 213            \\\\\n",
       "\t 0011746         & WI              & 050             & 00              & 55              & 009             & H1              & Brown County    & 214415          & 105076          & <U+22EF>        & 8471            & 7529            & 2542            & 3393            & 1836            & 2436            & 3302            & 2925            & 2452            & 2951           \\\\\n",
       "\t 0018034         & WI              & 050             & 00              & 55              & 011             & H1              & Buffalo County  & 13253           & 6667            & <U+22EF>        & 571             & 464             & 199             & 223             & 157             & 172             & 310             & 234             & 206             & 217            \\\\\n",
       "\\end{tabular}\n"
      ],
      "text/plain": [
       "  LOGRECNO STUSAB.x SUMLEV GEOCOMP STATE COUNTY COUNTYCC NAME           \n",
       "1 0000020  WI       050    00      55    001    H1       Adams County   \n",
       "2 0002473  WI       050    00      55    003    H1       Ashland County \n",
       "3 0004915  WI       050    00      55    005    H1       Barron County  \n",
       "4 0008619  WI       050    00      55    007    H1       Bayfield County\n",
       "5 0011746  WI       050    00      55    009    H1       Brown County   \n",
       "6 0018034  WI       050    00      55    011    H1       Buffalo County \n",
       "  P012A001 P012A002 <U+22EF>   P012I040 P012I041 P012I042 P012I043 P012I044\n",
       "1 19409    10080    <U+22EF> 779      818      327      528      332     \n",
       "2 13662    6868     <U+22EF> 533      506      188      245      157     \n",
       "3 44076    21884    <U+22EF> 1740     1630     626      849      543     \n",
       "4 13024    6721     <U+22EF> 612      670      255      340      213     \n",
       "5 214415   105076   <U+22EF> 8471     7529     2542     3393     1836    \n",
       "6 13253    6667     <U+22EF> 571      464      199      223      157     \n",
       "  P012I045 P012I046 P012I047 P012I048 P012I049\n",
       "1 508      603      415      309      253     \n",
       "2 182      243      228      242      258     \n",
       "3 723      970      863      666      870     \n",
       "4 298      360      252      155      213     \n",
       "5 2436     3302     2925     2452     2951    \n",
       "6 172      310      234      206      217     "
      ]
     },
     "metadata": {},
     "output_type": "display_data"
    }
   ],
   "source": [
    "#sfa$X <- seq_len(nrow(sfa))\n",
    "#sfb$Y <- rev(seq_len(nrow(sfa)))\n",
    "#dt3 <- sfa[sfb]\n",
    "dt3 <- merge(geo_table, sfa, all.x = TRUE)\n",
    "dt4 <- merge(dt3, sfb, all.x=TRUE)\n",
    "\n",
    "#convert back to dataframe to subset using grep. \n",
    "df1 <- data.frame(dt4)\n",
    "df2 <- df1[,c(1:8, grep(\"^P012[A-I].*\", colnames(df1)))]\n",
    "head(df2)\n"
   ]
  },
  {
   "cell_type": "code",
   "execution_count": 167,
   "metadata": {
    "collapsed": false
   },
   "outputs": [],
   "source": [
    "#Labelling functions \n",
    "library(gsubfn)\n",
    "#strapplyc(string, \":(.*)\", simplify = TRUE)\n",
    "desc <- descriptions \n",
    "\n",
    "getRace <- function(col){\n",
    "    string <- col #grep(\"P012[A-I]\", col, value = T)\n",
    "    table <- gsub(string, substr(string, 1, 5), string) #table label refers to table column in description file\n",
    "    table1 <- gsub(\"0\", \"\", table) #cleaned string to specify table id\n",
    "    race <- as.character(desc$FIELD.NAME[desc$TABLE == table1][1])\n",
    "    race2 <- strapplyc(race, \"\\\\((.*)\\\\)\", simplify = TRUE)\n",
    "    return(race2)\n",
    "}\n",
    "    \n",
    "getAge <- function(col){\n",
    "    string <- desc$FIELD.NAME[desc$FIELD.CODE == col]\n",
    "    if(grepl(\"years\", string)){\n",
    "        age1 <- sub(\" (years)\", \"\", string)\n",
    "        age2 <- sub(\" to \", \"-\", age1)\n",
    "        age <- trimws(age2, which = c(\"both\",\"left\",\"right\"))\n",
    "        }\n",
    "    if(grepl(\"^ *Male:\", string)) age <- \"ALL\"\n",
    "    if(grepl(\"^ *Female:\", string)) age <- \"ALL\" \n",
    "    if(grepl(\"^Total:\", string)) age <- \"ALL\"\n",
    "    return(age)\n",
    "}\n",
    "\n",
    "getSex <- function(col){\n",
    "    num <- as.numeric(strapplyc(col, \"^P012[A-I]0([0-4][0-9])\", simplify = TRUE))\n",
    "    if(num > 1 & num < 26) sex <- \"MALE\"\n",
    "    if(num >= 26 & num <= 49) sex <- \"FEMALE\"\n",
    "    if(num == 1) sex <- \"TOTAL\"\n",
    "    return(sex) \n",
    "}\n"
   ]
  },
  {
   "cell_type": "code",
   "execution_count": 169,
   "metadata": {
    "collapsed": false
   },
   "outputs": [
    {
     "data": {
      "text/html": [
       "TRUE"
      ],
      "text/latex": [
       "TRUE"
      ],
      "text/markdown": [
       "TRUE"
      ],
      "text/plain": [
       "[1] TRUE"
      ]
     },
     "metadata": {},
     "output_type": "display_data"
    }
   ],
   "source": [
    "#Importing to mongodb:\n",
    "library(rmongodb)\n",
    "db <- mongo.create(host = \"localhost\")\n",
    "mongo.is.connected(db)\n",
    "ns <- \"test.CountyDemographics3\"\n",
    "\n",
    "importToMongo <- function(doc){\n",
    "    mongo.insert(db, ns, doc)\n",
    "}"
   ]
  },
  {
   "cell_type": "code",
   "execution_count": 170,
   "metadata": {
    "collapsed": false
   },
   "outputs": [
    {
     "name": "stdout",
     "output_type": "stream",
     "text": [
      "\tLOGRECNO : 2 \t 0000020\n",
      "\tNAME : 2 \t Adams County\n",
      "\tSTUSAB : 2 \t WI\n",
      "\tSUMLEV : 2 \t 050\n",
      "\tSTATE : 2 \t 55\n",
      "\tCOUNTY : 2 \t 001\n",
      "\tFIPS : 2 \t 55001\n",
      "\tAGE : 2 \t ALL\n",
      "\tSEX : 2 \t TOTAL\n",
      "\tRACE : 2 \t WHITE ALONE\n",
      "\tCOUNT : 16 \t 19409\n"
     ]
    }
   ],
   "source": [
    "#now we need to classify the variable names (ex. P012002) by using the \"descriptions\" file before creating a JSON object. \n",
    "cnty <- df2\n",
    "\n",
    "for(r in 1:nrow(cnty)) {\n",
    "    LOGRECNO <- cnty$LOGRECNO[r]\n",
    "    STUSAB <- cnty$STUSAB[r]\n",
    "    SUMLEV <- cnty$SUMLEV[r]\n",
    "    STATE <- cnty$STATE[r]\n",
    "    COUNTY <- cnty$COUNTY[r]\n",
    "    NAME <- cnty$NAME[r]\n",
    "    FIPS <- paste0(STATE, COUNTY)\n",
    "    \n",
    "    for(cc in 9:ncol(cnty)) {\n",
    "        AGE <- getAge(colnames(cnty[cc]))\n",
    "        SEX <- getSex(colnames(cnty[cc]))\n",
    "        RACE <- getRace(colnames(cnty[cc]))\n",
    "        count <- as.factor(cnty[r,cc])\n",
    "        #write_JSON(LOGRECNO, STUSAB, SUMLEV, STATE, COUNTY, FIPS, NAME, AGE, SEX, RACE, count)\n",
    "        \n",
    "        json_elements = sprintf('{\"LOGRECNO\":\"%s\",\\n \"NAME\":\"%s\",\\n \"STUSAB\": \"%s\",\\n \"SUMLEV\": \"%s\", \\n \"STATE\":\"%s\",\\n \"COUNTY\":\"%s\",\\n \"FIPS\":\"%s\",\\n \"AGE\": \"%s\" ,\\n \"SEX\":\"%s\",\\n \"RACE\":\"%s\",\\n \"COUNT\": %s}'\n",
    "     , LOGRECNO, NAME, STUSAB, SUMLEV, STATE, COUNTY, FIPS, AGE, SEX, RACE, count)\n",
    "       \n",
    "        bson_object <- mongo.bson.from.JSON(json_elements)\n",
    "        if(r < 2 & cc < 10) print(bson_object)\n",
    "        importToMongo(bson_object)\n",
    "    next\n",
    "    }\n",
    "next\n",
    "}"
   ]
  },
  {
   "cell_type": "code",
   "execution_count": 166,
   "metadata": {
    "collapsed": false
   },
   "outputs": [
    {
     "data": {
      "text/html": [
       "31752"
      ],
      "text/latex": [
       "31752"
      ],
      "text/markdown": [
       "31752"
      ],
      "text/plain": [
       "[1] 31752"
      ]
     },
     "metadata": {},
     "output_type": "display_data"
    }
   ],
   "source": [
    "mongo.count(db, ns)"
   ]
  },
  {
   "cell_type": "code",
   "execution_count": 158,
   "metadata": {
    "collapsed": false
   },
   "outputs": [
    {
     "data": {
      "text/html": [
       "<ol class=list-inline>\n",
       "\t<li>P0120002</li>\n",
       "\t<li>P0140002</li>\n",
       "\t<li>P0430002</li>\n",
       "\t<li>P012A002</li>\n",
       "\t<li>P012B002</li>\n",
       "\t<li>P012C002</li>\n",
       "\t<li>P012D002</li>\n",
       "\t<li>P012E002</li>\n",
       "\t<li>P012F002</li>\n",
       "\t<li>P012G002</li>\n",
       "\t<li>P012H002</li>\n",
       "\t<li>P012I002</li>\n",
       "\t<li>PCT0120002</li>\n",
       "\t<li>PCT0130002</li>\n",
       "\t<li>PCT0210002</li>\n",
       "\t<li>PCT0220002</li>\n",
       "\t<li>PCT012A002</li>\n",
       "\t<li>PCT012B002</li>\n",
       "\t<li>PCT012C002</li>\n",
       "\t<li>PCT012D002</li>\n",
       "\t<li>PCT012E002</li>\n",
       "\t<li>PCT012F002</li>\n",
       "\t<li>PCT012G002</li>\n",
       "\t<li>PCT012H002</li>\n",
       "\t<li>PCT012I002</li>\n",
       "\t<li>PCT012J002</li>\n",
       "\t<li>PCT012K002</li>\n",
       "\t<li>PCT012L002</li>\n",
       "\t<li>PCT012M002</li>\n",
       "\t<li>PCT012N002</li>\n",
       "\t<li>PCT012O002</li>\n",
       "\t<li>PCT013A002</li>\n",
       "\t<li>PCT013B002</li>\n",
       "\t<li>PCT013C002</li>\n",
       "\t<li>PCT013D002</li>\n",
       "\t<li>PCT013E002</li>\n",
       "\t<li>PCT013F002</li>\n",
       "\t<li>PCT013G002</li>\n",
       "\t<li>PCT013H002</li>\n",
       "\t<li>PCT013I002</li>\n",
       "\t<li>PCT022A002</li>\n",
       "\t<li>PCT022B002</li>\n",
       "\t<li>PCT022C002</li>\n",
       "\t<li>PCT022D002</li>\n",
       "\t<li>PCT022E002</li>\n",
       "\t<li>PCT022F002</li>\n",
       "\t<li>PCT022G002</li>\n",
       "\t<li>PCT022H002</li>\n",
       "\t<li>PCT022I002</li>\n",
       "\t<li>PCO0010002</li>\n",
       "\t<li>PCO0020002</li>\n",
       "\t<li>PCO0030002</li>\n",
       "\t<li>PCO0040002</li>\n",
       "\t<li>PCO0050002</li>\n",
       "\t<li>PCO0060002</li>\n",
       "\t<li>PCO0070002</li>\n",
       "\t<li>PCO0080002</li>\n",
       "\t<li>PCO0090002</li>\n",
       "\t<li>PCO0100002</li>\n",
       "</ol>\n"
      ],
      "text/latex": [
       "\\begin{enumerate*}\n",
       "\\item P0120002\n",
       "\\item P0140002\n",
       "\\item P0430002\n",
       "\\item P012A002\n",
       "\\item P012B002\n",
       "\\item P012C002\n",
       "\\item P012D002\n",
       "\\item P012E002\n",
       "\\item P012F002\n",
       "\\item P012G002\n",
       "\\item P012H002\n",
       "\\item P012I002\n",
       "\\item PCT0120002\n",
       "\\item PCT0130002\n",
       "\\item PCT0210002\n",
       "\\item PCT0220002\n",
       "\\item PCT012A002\n",
       "\\item PCT012B002\n",
       "\\item PCT012C002\n",
       "\\item PCT012D002\n",
       "\\item PCT012E002\n",
       "\\item PCT012F002\n",
       "\\item PCT012G002\n",
       "\\item PCT012H002\n",
       "\\item PCT012I002\n",
       "\\item PCT012J002\n",
       "\\item PCT012K002\n",
       "\\item PCT012L002\n",
       "\\item PCT012M002\n",
       "\\item PCT012N002\n",
       "\\item PCT012O002\n",
       "\\item PCT013A002\n",
       "\\item PCT013B002\n",
       "\\item PCT013C002\n",
       "\\item PCT013D002\n",
       "\\item PCT013E002\n",
       "\\item PCT013F002\n",
       "\\item PCT013G002\n",
       "\\item PCT013H002\n",
       "\\item PCT013I002\n",
       "\\item PCT022A002\n",
       "\\item PCT022B002\n",
       "\\item PCT022C002\n",
       "\\item PCT022D002\n",
       "\\item PCT022E002\n",
       "\\item PCT022F002\n",
       "\\item PCT022G002\n",
       "\\item PCT022H002\n",
       "\\item PCT022I002\n",
       "\\item PCO0010002\n",
       "\\item PCO0020002\n",
       "\\item PCO0030002\n",
       "\\item PCO0040002\n",
       "\\item PCO0050002\n",
       "\\item PCO0060002\n",
       "\\item PCO0070002\n",
       "\\item PCO0080002\n",
       "\\item PCO0090002\n",
       "\\item PCO0100002\n",
       "\\end{enumerate*}\n"
      ],
      "text/markdown": [
       "1. P0120002\n",
       "2. P0140002\n",
       "3. P0430002\n",
       "4. P012A002\n",
       "5. P012B002\n",
       "6. P012C002\n",
       "7. P012D002\n",
       "8. P012E002\n",
       "9. P012F002\n",
       "10. P012G002\n",
       "11. P012H002\n",
       "12. P012I002\n",
       "13. PCT0120002\n",
       "14. PCT0130002\n",
       "15. PCT0210002\n",
       "16. PCT0220002\n",
       "17. PCT012A002\n",
       "18. PCT012B002\n",
       "19. PCT012C002\n",
       "20. PCT012D002\n",
       "21. PCT012E002\n",
       "22. PCT012F002\n",
       "23. PCT012G002\n",
       "24. PCT012H002\n",
       "25. PCT012I002\n",
       "26. PCT012J002\n",
       "27. PCT012K002\n",
       "28. PCT012L002\n",
       "29. PCT012M002\n",
       "30. PCT012N002\n",
       "31. PCT012O002\n",
       "32. PCT013A002\n",
       "33. PCT013B002\n",
       "34. PCT013C002\n",
       "35. PCT013D002\n",
       "36. PCT013E002\n",
       "37. PCT013F002\n",
       "38. PCT013G002\n",
       "39. PCT013H002\n",
       "40. PCT013I002\n",
       "41. PCT022A002\n",
       "42. PCT022B002\n",
       "43. PCT022C002\n",
       "44. PCT022D002\n",
       "45. PCT022E002\n",
       "46. PCT022F002\n",
       "47. PCT022G002\n",
       "48. PCT022H002\n",
       "49. PCT022I002\n",
       "50. PCO0010002\n",
       "51. PCO0020002\n",
       "52. PCO0030002\n",
       "53. PCO0040002\n",
       "54. PCO0050002\n",
       "55. PCO0060002\n",
       "56. PCO0070002\n",
       "57. PCO0080002\n",
       "58. PCO0090002\n",
       "59. PCO0100002\n",
       "\n",
       "\n"
      ],
      "text/plain": [
       "FIELD CODE \n",
       " [1] P0120002   P0140002   P0430002   P012A002   P012B002   P012C002  \n",
       " [7] P012D002   P012E002   P012F002   P012G002   P012H002   P012I002  \n",
       "[13] PCT0120002 PCT0130002 PCT0210002 PCT0220002 PCT012A002 PCT012B002\n",
       "[19] PCT012C002 PCT012D002 PCT012E002 PCT012F002 PCT012G002 PCT012H002\n",
       "[25] PCT012I002 PCT012J002 PCT012K002 PCT012L002 PCT012M002 PCT012N002\n",
       "[31] PCT012O002 PCT013A002 PCT013B002 PCT013C002 PCT013D002 PCT013E002\n",
       "[37] PCT013F002 PCT013G002 PCT013H002 PCT013I002 PCT022A002 PCT022B002\n",
       "[43] PCT022C002 PCT022D002 PCT022E002 PCT022F002 PCT022G002 PCT022H002\n",
       "[49] PCT022I002 PCO0010002 PCO0020002 PCO0030002 PCO0040002 PCO0050002\n",
       "[55] PCO0060002 PCO0070002 PCO0080002 PCO0090002 PCO0100002\n",
       "8913 Levels:  H00010001 H0020001 H0020002 H0020003 H0020004 H0020005 ... PCT022I021"
      ]
     },
     "metadata": {},
     "output_type": "display_data"
    }
   ],
   "source": [
    "desc$FIELD.CODE[grep(\"^ *Male:\", desc$FIELD.NAME)]"
   ]
  },
  {
   "cell_type": "code",
   "execution_count": null,
   "metadata": {
    "collapsed": true
   },
   "outputs": [],
   "source": []
  }
 ],
 "metadata": {
  "kernelspec": {
   "display_name": "R",
   "language": "R",
   "name": "ir"
  },
  "language_info": {
   "codemirror_mode": "r",
   "file_extension": ".r",
   "mimetype": "text/x-r-source",
   "name": "R",
   "pygments_lexer": "r",
   "version": "3.3.1"
  }
 },
 "nbformat": 4,
 "nbformat_minor": 0
}
